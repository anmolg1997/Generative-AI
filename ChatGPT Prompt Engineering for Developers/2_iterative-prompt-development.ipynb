{
 "cells": [
  {
   "cell_type": "markdown",
   "id": "b97ddf3b-d921-4169-9d82-b0ee95e9eccd",
   "metadata": {},
   "source": [
    "# Iterative Prompt Develelopment\n",
    "In this lesson, you'll iteratively analyze and refine your prompts to generate marketing copy from a product fact sheet.\n",
    "\n",
    "## Setup"
   ]
  },
  {
   "cell_type": "code",
   "execution_count": 1,
   "id": "2800e646",
   "metadata": {},
   "outputs": [],
   "source": [
    "import openai\n",
    "openai.api_base = 'https://genai-api.uberinternal.com/v1'\n",
    "usso_token = 'eyJhbGciOiJFUzI1NiIsImVudiI6InByb2QiLCJraWQiOiJnX0hsUlpnWGRzMlNFcUVFUGVzZmdiUDBaRWxIV2tiaFJ5SUd4alRKMWNrIiwidHlwIjoiSldUIiwidmVyIjoiMS4wIn0.eyJjbGllbnRfaWQiOiJnZW5haS1hcGkudWJlcmludGVybmFsLmNvbSIsImVtYWlsIjoiYWphaXN3MjZAZXh0LnViZXIuY29tIiwiZXhwIjoxNjk4Mzg4MDA2LCJpYXQiOjE2OTgzMTU3MDYsImlzcyI6InNwaWZmZTovL3Vzc28udXBraS5jYSIsImp0aSI6ImYwMzU3ZjMyLWExMmEtNGUyNi04Mzg1LTU0OTc1NmZkOGUzNCIsInBsY3kiOiJmdW5vSkZHU3FuSWl6NFh0YzFuTjU1ZzRXSlhMRFUxUE4ybW5wRGpSRmc1Q1JPanhaWG9zRG5DdTRRUThEK002RFhYenFncFEzVE8zajFPQ3Q2NHVHWUlvemZyZmJrVDlRVVlaMkl0NzNsVmpTUC8zaFo4SVJ6SnNEZEgvdUlGV2ZDN3F6QXZVa1ZpOUgwQ21wcnppN25GOXFnPT0iLCJwbGN5X2tleSI6ImtleS11c3NvLXBsY3ktMTEwOTE4LnBlbSIsInJvbGVzIjoiY2xpZW50Iiwic3ViIjoic3BpZmZlOi8vcGVyc29ubmVsLnVwa2kuY2EvZWlkLzk5OTAwMDI2ODM4MCIsInRlbmFuY3kiOiJ1YmVyL3Byb2R1Y3Rpb24iLCJ0b2tlbiI6IjJkM2I5MDJlLTA2M2YtMTFlYy05N2RjLWIwMjYyODY4N2JjMCIsInR5cGUiOiJvZmZsaW5lIiwidXVpZCI6ImNjMTA0YzcwLWIxNTYtNGM1NS05ZmE1LTY5MzJmNzM2ZDA5YyJ9.bfe4qGwGaIo0mjV2VQQVFvLSBfWaIUBUf0XNa3SoyZs3wOuFPZJ6-8sHfnCPip5RZLPMAtDWiSkLTNxCbur-ZQ'\n",
    "openai.api_key = usso_token"
   ]
  },
  {
   "cell_type": "code",
   "execution_count": 2,
   "id": "9fb6f2de",
   "metadata": {},
   "outputs": [],
   "source": [
    "def get_completion(prompt, model=\"gpt-3.5-turbo\"):\n",
    "    messages = [{\"role\": \"user\", \"content\": prompt}]\n",
    "    response = openai.ChatCompletion.create(\n",
    "        model=model,\n",
    "        messages=messages,\n",
    "        temperature=0, # this is the degree of randomness of the model's output\n",
    "    )\n",
    "    return response.choices[0].message[\"content\"]"
   ]
  },
  {
   "cell_type": "markdown",
   "id": "71d1a1df-03c3-4f38-af6d-3962362f3dcd",
   "metadata": {},
   "source": [
    "## Generate a marketing product description from a product fact sheet"
   ]
  },
  {
   "cell_type": "code",
   "execution_count": 3,
   "id": "5be90e47",
   "metadata": {},
   "outputs": [],
   "source": [
    "fact_sheet_chair = \"\"\"\n",
    "OVERVIEW\n",
    "- Part of a beautiful family of mid-century inspired office furniture, \n",
    "including filing cabinets, desks, bookcases, meeting tables, and more.\n",
    "- Several options of shell color and base finishes.\n",
    "- Available with plastic back and front upholstery (SWC-100) \n",
    "or full upholstery (SWC-110) in 10 fabric and 6 leather options.\n",
    "- Base finish options are: stainless steel, matte black, \n",
    "gloss white, or chrome.\n",
    "- Chair is available with or without armrests.\n",
    "- Suitable for home or business settings.\n",
    "- Qualified for contract use.\n",
    "\n",
    "CONSTRUCTION\n",
    "- 5-wheel plastic coated aluminum base.\n",
    "- Pneumatic chair adjust for easy raise/lower action.\n",
    "\n",
    "DIMENSIONS\n",
    "- WIDTH 53 CM | 20.87”\n",
    "- DEPTH 51 CM | 20.08”\n",
    "- HEIGHT 80 CM | 31.50”\n",
    "- SEAT HEIGHT 44 CM | 17.32”\n",
    "- SEAT DEPTH 41 CM | 16.14”\n",
    "\n",
    "OPTIONS\n",
    "- Soft or hard-floor caster options.\n",
    "- Two choices of seat foam densities: \n",
    " medium (1.8 lb/ft3) or high (2.8 lb/ft3)\n",
    "- Armless or 8 position PU armrests \n",
    "\n",
    "MATERIALS\n",
    "SHELL BASE GLIDER\n",
    "- Cast Aluminum with modified nylon PA6/PA66 coating.\n",
    "- Shell thickness: 10 mm.\n",
    "SEAT\n",
    "- HD36 foam\n",
    "\n",
    "COUNTRY OF ORIGIN\n",
    "- Italy\n",
    "\"\"\""
   ]
  },
  {
   "cell_type": "code",
   "execution_count": 4,
   "id": "4f656d0c",
   "metadata": {},
   "outputs": [
    {
     "name": "stdout",
     "output_type": "stream",
     "text": [
      "Introducing the stylish and versatile [Product Name], a must-have addition to any office or home setting. This exquisite chair is part of a stunning collection of mid-century inspired office furniture, including filing cabinets, desks, bookcases, meeting tables, and more. Designed with both aesthetics and functionality in mind, the [Product Name] offers a range of customizable options to suit any preference.\n",
      "\n",
      "With several choices of shell color and base finishes, you can effortlessly create the perfect look for your space. The [Product Name] is available with either plastic back and front upholstery (SWC-100) or full upholstery (SWC-110), allowing you to select from 10 fabric and 6 leather options for ultimate comfort and style. Additionally, you can choose between a chair with or without armrests, providing flexibility to cater to your specific needs.\n",
      "\n",
      "Crafted with the highest quality materials, the [Product Name] is designed for durability and longevity. The chair features a 5-wheel plastic coated aluminum base, ensuring stability and mobility. The pneumatic chair adjust allows for easy raise and lower action, adapting effortlessly to your preference.\n",
      "\n",
      "The dimensions of the [Product Name] are carefully tailored to offer maximum comfort. With a width of 53 cm (20.87”), depth of 51 cm (20.08”), and height of 80 cm (31.50”), this chair provides ample space to relax and work. The seat height is 44 cm (17.32”), and the seat depth is 41 cm (16.14”), promoting optimal ergonomic support.\n",
      "\n",
      "Customization is key with the [Product Name]. You have the choice between soft or hard-floor caster options, ensuring the chair seamlessly integrates into any flooring surface. Additionally, you can select from two seat foam densities: medium (1.8 lb/ft3) or high (2.8 lb/ft3), tailoring the chair's comfort to your preference. For added versatility, the [Product Name] can be equipped with armless design or 8 position PU armrests, accommodating different seating preferences.\n",
      "\n",
      "The [Product Name] is crafted with the finest materials, blending style and durability seamlessly. The shell base glider is made of cast aluminum with a modified nylon PA6/PA66 coating, providing both strength and stability. The shell thickness is 10 mm, ensuring long-lasting resilience. The seat features HD36 foam, offering exceptional support and comfort during long hours of use.\n",
      "\n",
      "Proudly made in Italy, the [Product Name] embodies the finest craftsmanship and attention to detail. It is suitable for both home and business settings, making it a versatile choice for any interior.\n",
      "\n",
      "Upgrade your workspace with the elegant and functional [Product Name]. Experience the perfect blend of comfort, style, and durability.\n"
     ]
    }
   ],
   "source": [
    "prompt = f\"\"\"\n",
    "Your task is to help a marketing team create a \n",
    "description for a retail website of a product based \n",
    "on a technical fact sheet.\n",
    "\n",
    "Write a product description based on the information \n",
    "provided in the technical specifications delimited by \n",
    "triple backticks.\n",
    "\n",
    "Technical specifications: ```{fact_sheet_chair}```\n",
    "\"\"\"\n",
    "response = get_completion(prompt)\n",
    "print(response)\n"
   ]
  },
  {
   "cell_type": "markdown",
   "id": "e1361d6f-6022-4b7a-8107-b2e2ff5efd32",
   "metadata": {},
   "source": [
    "## Issue 1: The text is too long \n",
    "- Limit the number of words/sentences/characters."
   ]
  },
  {
   "cell_type": "code",
   "execution_count": 5,
   "id": "f6129532",
   "metadata": {},
   "outputs": [
    {
     "name": "stdout",
     "output_type": "stream",
     "text": [
      "Introducing our stunning mid-century inspired office chair, part of a beautiful furniture collection. With a range of colors, base finishes, upholstery options, and armrest choices, it seamlessly complements any home or business setting. Its adjustable height and premium materials ensure comfort and durability. Made in Italy.\n"
     ]
    }
   ],
   "source": [
    "prompt = f\"\"\"\n",
    "Your task is to help a marketing team create a \n",
    "description for a retail website of a product based \n",
    "on a technical fact sheet.\n",
    "\n",
    "Write an appealing & impactful product description based on the information \n",
    "provided in the technical specifications delimited by \n",
    "triple backticks.\n",
    "\n",
    "Use at most 50 words strictly.\n",
    "\n",
    "Technical specifications: ```{fact_sheet_chair}```\n",
    "\"\"\"\n",
    "response = get_completion(prompt)\n",
    "print(response)\n"
   ]
  },
  {
   "cell_type": "code",
   "execution_count": 6,
   "id": "17f658d0",
   "metadata": {},
   "outputs": [
    {
     "data": {
      "text/plain": [
       "46"
      ]
     },
     "execution_count": 6,
     "metadata": {},
     "output_type": "execute_result"
    }
   ],
   "source": [
    "len(response.split(\" \"))"
   ]
  },
  {
   "cell_type": "markdown",
   "id": "a6de9c92-857c-4d1c-8fd1-192cf47c4763",
   "metadata": {},
   "source": [
    "## Issue 2. Text focuses on the wrong details\n",
    "- Ask it to focus on the aspects that are relevant to the intended audience."
   ]
  },
  {
   "cell_type": "code",
   "execution_count": 7,
   "id": "954a8a06",
   "metadata": {},
   "outputs": [
    {
     "name": "stdout",
     "output_type": "stream",
     "text": [
      "Introducing our mid-century inspired office chair, part of a beautiful furniture collection suitable for both home and business settings. Featuring various options for shell color, base finishes, and upholstery materials, this chair offers versatility and customization. With its 5-wheel plastic coated aluminum base and pneumatic chair adjustment, it ensures easy raise/lower action for ultimate comfort. Manufactured with high-quality materials, including a cast aluminum shell and HD36 foam seat, this chair guarantees durability and style. Made in Italy.\n"
     ]
    }
   ],
   "source": [
    "prompt = f\"\"\"\n",
    "Your task is to help a marketing team create a \n",
    "description for a retail website of a product based \n",
    "on a technical fact sheet.\n",
    "\n",
    "Write a product description based on the information \n",
    "provided in the technical specifications delimited by \n",
    "triple backticks.\n",
    "\n",
    "The description is intended for furniture retailers, \n",
    "so should be technical in nature and focus on the \n",
    "materials the product is constructed from.\n",
    "\n",
    "Use at most 50 words.\n",
    "\n",
    "Technical specifications: ```{fact_sheet_chair}```\n",
    "\"\"\"\n",
    "response = get_completion(prompt)\n",
    "print(response)"
   ]
  },
  {
   "cell_type": "code",
   "execution_count": 8,
   "id": "e9455d58",
   "metadata": {},
   "outputs": [
    {
     "name": "stdout",
     "output_type": "stream",
     "text": [
      "Introducing the SWC-100 Office Chair, a stunning addition to any office or home workspace. Constructed with a durable cast aluminum shell and a modified nylon PA6/PA66 coating, this chair offers both style and longevity. With options for plastic or full upholstery, choose from a range of fabric and leather options to perfectly complement your space. The SWC-100 also offers multiple base finishes including stainless steel, matte black, gloss white, or chrome, allowing you to customize it to your preference. With its 5-wheel plastic coated aluminum base and pneumatic chair adjustment, this chair ensures easy raise/lower action and effortless mobility. Experience comfort with the HD36 foam seat, available in two densities: medium (1.8 lb/ft3) or high (2.8 lb/ft3). Customize your chair further with options for soft or hard-floor casters, as well as the choice between armless or 8 position PU armrests. Designed for both home and business settings, the SWC-100 Office Chair is the perfect blend of style, durability, and functionality. Look no further for the ideal seating solution.\n",
      "\n",
      "Product IDs: \n",
      "- AA12345\n",
      "- BC67890\n"
     ]
    }
   ],
   "source": [
    "prompt = f\"\"\"\n",
    "Your task is to help a marketing team create a \n",
    "description for a retail website of a product based \n",
    "on a technical fact sheet.\n",
    "\n",
    "Write an appealing product description based on the information \n",
    "provided in the technical specifications delimited by \n",
    "triple backticks.\n",
    "\n",
    "The description is intended for furniture retailers, \n",
    "so should be technical in nature and focus on the \n",
    "materials the product is constructed from.\n",
    "\n",
    "At the end of the description, include every 7-character \n",
    "Product ID in the technical specification.\n",
    "\n",
    "Use at most 50 words.\n",
    "\n",
    "Technical specifications: ```{fact_sheet_chair}```\n",
    "\"\"\"\n",
    "response = get_completion(prompt)\n",
    "print(response)"
   ]
  },
  {
   "cell_type": "markdown",
   "id": "5be496d5-54c9-443b-8116-0b3d3d9dc560",
   "metadata": {},
   "source": [
    "## Issue 3. Description needs a table of dimensions\n",
    "- Ask it to extract information and organize it in a table."
   ]
  },
  {
   "cell_type": "code",
   "execution_count": 9,
   "id": "0384f1e4",
   "metadata": {},
   "outputs": [
    {
     "name": "stdout",
     "output_type": "stream",
     "text": [
      "<div>\n",
      "  <h2>Product Description</h2>\n",
      "  <p>\n",
      "    Introducing our mid-century inspired office chair, a stunning addition to any workspace. This chair is part of a beautiful family of furniture that includes filing cabinets, desks, bookcases, meeting tables, and more. Available in various shell colors and base finishes, you can customize this chair to match any office decor. Choose between plastic back and front upholstery or opt for full upholstery in multiple fabric or leather options. The base finish options include stainless steel, matte black, gloss white, or chrome. Whether you prefer a chair with armrests or without, this piece is suitable for both home and business settings. Designed for durability, it is qualified for contract use.\n",
      "  </p>\n",
      "  <p>\n",
      "    The chair features a 5-wheel plastic coated aluminum base, ensuring stability and easy movement on any surface. With a pneumatic chair adjust, you can effortlessly raise or lower the seat to your desired height. The seat is crafted with HD36 foam for maximum comfort throughout the day.\n",
      "  </p>\n",
      "  <h2>Product Dimensions</h2>\n",
      "  <table>\n",
      "    <tr>\n",
      "      <th>Width</th>\n",
      "      <td>20.87 inches</td>\n",
      "    </tr>\n",
      "    <tr>\n",
      "      <th>Depth</th>\n",
      "      <td>20.08 inches</td>\n",
      "    </tr>\n",
      "    <tr>\n",
      "      <th>Height</th>\n",
      "      <td>31.50 inches</td>\n",
      "    </tr>\n",
      "    <tr>\n",
      "      <th>Seat Height</th>\n",
      "      <td>17.32 inches</td>\n",
      "    </tr>\n",
      "    <tr>\n",
      "      <th>Seat Depth</th>\n",
      "      <td>16.14 inches</td>\n",
      "    </tr>\n",
      "  </table>\n",
      "</div>\n"
     ]
    }
   ],
   "source": [
    "prompt = f\"\"\"\n",
    "Your task is to help a marketing team create a \n",
    "description for a retail website of a product based \n",
    "on a technical fact sheet.\n",
    "\n",
    "Write a product description based on the information \n",
    "provided in the technical specifications delimited by \n",
    "triple backticks.\n",
    "\n",
    "The description is intended for furniture retailers, \n",
    "so should be technical in nature and focus on the \n",
    "materials the product is constructed from.\n",
    "\n",
    "At the end of the description, include every 7-character \n",
    "Product ID in the technical specification.\n",
    "\n",
    "After the description, include a table that gives the \n",
    "product's dimensions. The table should have two columns.\n",
    "In the first column include the name of the dimension. \n",
    "In the second column include the measurements in inches only.\n",
    "\n",
    "Give the table the title 'Product Dimensions'.\n",
    "\n",
    "Format everything as HTML that can be used in a website. \n",
    "Place the description in a <div> element.\n",
    "\n",
    "Technical specifications: ```{fact_sheet_chair}```\n",
    "\"\"\"\n",
    "\n",
    "response = get_completion(prompt)\n",
    "print(response)"
   ]
  },
  {
   "cell_type": "markdown",
   "id": "d681db67-6d59-40c1-a36b-4d76729a690d",
   "metadata": {},
   "source": [
    "## Load Python libraries to view HTML"
   ]
  },
  {
   "cell_type": "code",
   "execution_count": 10,
   "id": "73ff0052",
   "metadata": {},
   "outputs": [],
   "source": [
    "from IPython.display import display, HTML"
   ]
  },
  {
   "cell_type": "code",
   "execution_count": 11,
   "id": "3465ffce",
   "metadata": {},
   "outputs": [
    {
     "data": {
      "text/html": [
       "<div>\n",
       "  <h2>Product Description</h2>\n",
       "  <p>\n",
       "    Introducing our mid-century inspired office chair, a stunning addition to any workspace. This chair is part of a beautiful family of furniture that includes filing cabinets, desks, bookcases, meeting tables, and more. Available in various shell colors and base finishes, you can customize this chair to match any office decor. Choose between plastic back and front upholstery or opt for full upholstery in multiple fabric or leather options. The base finish options include stainless steel, matte black, gloss white, or chrome. Whether you prefer a chair with armrests or without, this piece is suitable for both home and business settings. Designed for durability, it is qualified for contract use.\n",
       "  </p>\n",
       "  <p>\n",
       "    The chair features a 5-wheel plastic coated aluminum base, ensuring stability and easy movement on any surface. With a pneumatic chair adjust, you can effortlessly raise or lower the seat to your desired height. The seat is crafted with HD36 foam for maximum comfort throughout the day.\n",
       "  </p>\n",
       "  <h2>Product Dimensions</h2>\n",
       "  <table>\n",
       "    <tr>\n",
       "      <th>Width</th>\n",
       "      <td>20.87 inches</td>\n",
       "    </tr>\n",
       "    <tr>\n",
       "      <th>Depth</th>\n",
       "      <td>20.08 inches</td>\n",
       "    </tr>\n",
       "    <tr>\n",
       "      <th>Height</th>\n",
       "      <td>31.50 inches</td>\n",
       "    </tr>\n",
       "    <tr>\n",
       "      <th>Seat Height</th>\n",
       "      <td>17.32 inches</td>\n",
       "    </tr>\n",
       "    <tr>\n",
       "      <th>Seat Depth</th>\n",
       "      <td>16.14 inches</td>\n",
       "    </tr>\n",
       "  </table>\n",
       "</div>"
      ],
      "text/plain": [
       "<IPython.core.display.HTML object>"
      ]
     },
     "metadata": {},
     "output_type": "display_data"
    }
   ],
   "source": [
    "display(HTML(response))"
   ]
  },
  {
   "cell_type": "markdown",
   "id": "8ed02a02-9e12-4f63-97bd-f52064b18666",
   "metadata": {},
   "source": [
    "## Try experimenting on your own!"
   ]
  },
  {
   "cell_type": "code",
   "execution_count": null,
   "id": "dbe1f850",
   "metadata": {},
   "outputs": [],
   "source": []
  }
 ],
 "metadata": {
  "kernelspec": {
   "display_name": "03. Python 3.7 (General DS)",
   "language": "python",
   "name": "python37"
  },
  "language_info": {
   "codemirror_mode": {
    "name": "ipython",
    "version": 3
   },
   "file_extension": ".py",
   "mimetype": "text/x-python",
   "name": "python",
   "nbconvert_exporter": "python",
   "pygments_lexer": "ipython3",
   "version": "3.7.13"
  }
 },
 "nbformat": 4,
 "nbformat_minor": 5
}
