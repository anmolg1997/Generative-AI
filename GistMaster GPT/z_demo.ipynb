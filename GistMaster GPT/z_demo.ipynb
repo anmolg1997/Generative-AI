{
 "cells": [
  {
   "cell_type": "code",
   "execution_count": 1,
   "id": "1e0cfd40-ebeb-4a88-ba9c-af0a04fb1d21",
   "metadata": {},
   "outputs": [],
   "source": [
    "import os\n",
    "import openai\n",
    "import langchain"
   ]
  },
  {
   "cell_type": "code",
   "execution_count": 2,
   "id": "c7135687-aec3-4956-b2f8-32b0484b8ac8",
   "metadata": {},
   "outputs": [
    {
     "data": {
      "text/plain": [
       "'0.28.1'"
      ]
     },
     "execution_count": 2,
     "metadata": {},
     "output_type": "execute_result"
    }
   ],
   "source": [
    "openai.__version__"
   ]
  },
  {
   "cell_type": "code",
   "execution_count": 8,
   "id": "89c0dc0a-a900-4f43-b19f-9b393305ce21",
   "metadata": {},
   "outputs": [],
   "source": [
    "usso_token = 'eyJhbGciOiJFUzI1NiIsImVudiI6InByb2QiLCJraWQiOiJnX0hsUlpnWGRzMlNFcUVFUGVzZmdiUDBaRWxIV2tiaFJ5SUd4alRKMWNrIiwidHlwIjoiSldUIiwidmVyIjoiMS4wIn0.eyJjbGllbnRfaWQiOiJnZW5haS1hcGkudWJlcmludGVybmFsLmNvbSIsImVtYWlsIjoiYWphaXN3MjZAZXh0LnViZXIuY29tIiwiZXhwIjoxNzAwNTI1OTU3LCJpYXQiOjE3MDA0NTM2NTcsImlzcyI6InNwaWZmZTovL3Vzc28udXBraS5jYSIsImp0aSI6IjI1NWNiZTgwLThlZTQtNDRkNS05MGZhLTFhZDIzNWYzNjY2MCIsInBsY3kiOiJWeElSY1QyZ1VieTdKYXVMTXRuT3B0Zml5WkovdW9NcnBjSjcxR0xHcmU2ZTNZL2wrakVjeWJiV0lWNGJqeDhPYWlWY1FlblFzeE1HTzF6OW03TFpvUm5HMCt3TlJKeENaVUcxdFBvUjE0Y0FNeGY4b3pTYjkxUE94dTNhMWlJbFdrajJzYVVrUUlqemMyYTlZREJTeEJ2SzhnPT0iLCJwbGN5X2tleSI6ImtleS11c3NvLXBsY3ktMTEwOTE4LnBlbSIsInJvbGVzIjoiY2xpZW50Iiwic3ViIjoic3BpZmZlOi8vcGVyc29ubmVsLnVwa2kuY2EvZWlkLzk5OTAwMDI2ODM4MCIsInRlbmFuY3kiOiJ1YmVyL3Byb2R1Y3Rpb24iLCJ0b2tlbiI6IjJkM2I5MDJlLTA2M2YtMTFlYy05N2RjLWIwMjYyODY4N2JjMCIsInR5cGUiOiJvZmZsaW5lIiwidXVpZCI6ImNjMTA0YzcwLWIxNTYtNGM1NS05ZmE1LTY5MzJmNzM2ZDA5YyJ9.iioK5pZFlU6YNPfheCef6DUDuUCifiUctS62ubsuhEp9tm4RXCEVXTMS_7pc2snYr-mfsu6xunO63w1rpuINdg'\n",
    "os.environ[\"OPENAI_API_KEY\"] = usso_token\n",
    "openai.api_base = 'https://genai-api.uberinternal.com/v1'"
   ]
  },
  {
   "cell_type": "code",
   "execution_count": 4,
   "id": "a5755207-0ec6-4ac2-b3fb-67c44b3b2167",
   "metadata": {},
   "outputs": [],
   "source": [
    "from langchain.document_loaders import (\n",
    "    UnstructuredCSVLoader,\n",
    "    UnstructuredHTMLLoader,\n",
    "    UnstructuredImageLoader,\n",
    "    UnstructuredWordDocumentLoader,\n",
    "    PythonLoader,\n",
    "    PyPDFLoader,\n",
    "    JSONLoader,\n",
    "    Docx2txtLoader,\n",
    "    ToMarkdownLoader,\n",
    "    UnstructuredFileLoader\n",
    ")\n",
    "from langchain.document_loaders.csv_loader import CSVLoader\n",
    "\n",
    "from langchain.text_splitter import (\n",
    "    CharacterTextSplitter,\n",
    "    RecursiveCharacterTextSplitter\n",
    ")\n",
    "\n",
    "recursive_splitter = RecursiveCharacterTextSplitter(\n",
    "    chunk_size=4000,\n",
    "    chunk_overlap=0,\n",
    ")\n"
   ]
  },
  {
   "cell_type": "code",
   "execution_count": 5,
   "id": "be12016e-8479-4ea3-b346-c5714f507a6e",
   "metadata": {},
   "outputs": [],
   "source": [
    "from langchain.chains.summarize import load_summarize_chain\n",
    "from langchain.chat_models import ChatOpenAI\n",
    "from langchain.prompts import PromptTemplate\n",
    "\n",
    "llm = ChatOpenAI()\n",
    "\n",
    "def summarizerGen(_verbose=False):\n",
    "    map_template = \"\"\"Write a concise yet compelling summary of the following:\n",
    "    \n",
    "    \n",
    "    \"{text}\"\n",
    "    \n",
    "    \n",
    "    CONCISE SUMMARY:\"\"\"\n",
    "    \n",
    "    combine_template = \"\"\"The following is a set of summaries of different part of a big document:\n",
    "    \n",
    "    \"{text}\"\n",
    "    \n",
    "    Take these and distill it into a final but consolidated, impactful and coherent summary. \n",
    "    The FINAL SUMMARY shall have these points : \n",
    "    1. What is the main theme of main document?\n",
    "    2. What the whole content is about ?\n",
    "    3. What inference we can make out of it ?\n",
    "    FINAL SUMMARY:\"\"\"\n",
    "    \n",
    "    map_prompt = PromptTemplate.from_template(map_template)\n",
    "    combine_prompt = PromptTemplate.from_template(combine_template)\n",
    "    \n",
    "    summarizerChain = load_summarize_chain(\n",
    "        llm=llm,\n",
    "        chain_type='map_reduce',\n",
    "        map_prompt=map_prompt,\n",
    "        combine_prompt=combine_prompt,\n",
    "        verbose=_verbose\n",
    "    )\n",
    "    return summarizerChain"
   ]
  },
  {
   "cell_type": "code",
   "execution_count": 6,
   "id": "944c2210-a486-491c-856c-b51400ffc379",
   "metadata": {},
   "outputs": [],
   "source": [
    "def customLoaderGen(file_path, file_type):\n",
    "    print(file_type.lower())\n",
    "    try:\n",
    "        if file_type.lower()=='csv':\n",
    "            customLoader = CSVLoader(file_path=file_path)\n",
    "        if file_type.lower()=='txt':\n",
    "            customLoader = TextLoader(file_path=file_path)\n",
    "        if file_type.lower()=='docx':\n",
    "            customLoader = Docx2txtLoader(file_path=file_path)\n",
    "        if file_type.lower()=='pdf':\n",
    "            customLoader = PyPDFLoader(file_path=file_path)\n",
    "        if file_type.lower()=='html':\n",
    "            customLoader = UnstructuredHTMLLoader(file_path=file_path)\n",
    "        if file_type.lower() in ('md', 'markdown'):\n",
    "            customLoader = ToMarkdownLoader(file_path=file_path)\n",
    "    except:\n",
    "        print('using file loader')\n",
    "        customLoader = UnstructuredFileLoader(file_path=file_path)\n",
    "    return customLoader"
   ]
  },
  {
   "cell_type": "code",
   "execution_count": 7,
   "id": "0923a347-f8f0-4e36-92af-3ad8ad79ad3f",
   "metadata": {},
   "outputs": [],
   "source": [
    "summarizerChain = summarizerGen()"
   ]
  },
  {
   "cell_type": "code",
   "execution_count": 8,
   "id": "e2b2353f-f2a0-4dec-88d0-00c00ddd1c09",
   "metadata": {},
   "outputs": [],
   "source": [
    "file_path = '../langchain/data/mixed_data/MachineLearning-Lecture01.pdf'\n",
    "file_type = 'PDF'"
   ]
  },
  {
   "cell_type": "code",
   "execution_count": 9,
   "id": "3041e83f-95e8-43b3-a5d4-58242caf47fb",
   "metadata": {},
   "outputs": [
    {
     "name": "stdout",
     "output_type": "stream",
     "text": [
      "CPU times: user 178 ms, sys: 10.7 ms, total: 188 ms\n",
      "Wall time: 187 ms\n"
     ]
    },
    {
     "data": {
      "text/plain": [
       "22"
      ]
     },
     "execution_count": 9,
     "metadata": {},
     "output_type": "execute_result"
    }
   ],
   "source": [
    "%%time\n",
    "customLoader = customLoaderGen(file_path, file_type)\n",
    "data = customLoader.load_and_split(text_splitter=recursive_splitter)\n",
    "len(data)"
   ]
  },
  {
   "cell_type": "code",
   "execution_count": 10,
   "id": "a4bcb8e9-305c-467f-a1ad-8c4d9e54f536",
   "metadata": {},
   "outputs": [
    {
     "name": "stdout",
     "output_type": "stream",
     "text": [
      "CPU times: user 365 ms, sys: 11.6 ms, total: 376 ms\n",
      "Wall time: 8.27 s\n"
     ]
    },
    {
     "data": {
      "text/plain": [
       "'The main theme of the document is a machine learning course that emphasizes academic integrity and encourages collaboration. The content covers various aspects of the course, including online resources, homework assignments, study groups, and the importance of MATLAB. It also mentions a midterm exam and a research project. From the document, we can infer that students are expected to complete their homework independently, utilize the provided resources, and collaborate responsibly. The goal of the course is to produce publishable research in the field of machine learning.'"
      ]
     },
     "execution_count": 10,
     "metadata": {},
     "output_type": "execute_result"
    }
   ],
   "source": [
    "%%time\n",
    "summarizerChain.run(data[5:10])"
   ]
  },
  {
   "cell_type": "code",
   "execution_count": 11,
   "id": "99293425-47a9-4ebe-a924-4ce3045184a5",
   "metadata": {},
   "outputs": [
    {
     "data": {
      "text/plain": [
       "[Document(page_content=\"So all right, online resources. The class has a home page, so it's in on the handouts. I \\nwon't write on the chalkboard — http:// cs229.stanford.edu. And so when there are \\nhomework assignments or things like that, we  usually won't sort of — in the mission of \\nsaving trees, we will usually not give out many handouts in class. So homework \\nassignments, homework solutions will be posted online at the course home page.  \\nAs far as this class, I've also written, a nd I guess I've also revised every year a set of \\nfairly detailed lecture notes that cover the te chnical content of this  class. And so if you \\nvisit the course homepage, you'll also find the detailed lecture notes that go over in detail \\nall the math and equations and so on  that I'll be doing in class.  \\nThere's also a newsgroup, su.class.cs229, also written on the handout. This is a \\nnewsgroup that's sort of a forum for people in  the class to get to  know each other and \\nhave whatever discussions you want to ha ve amongst yourselves. So the class newsgroup \\nwill not be monitored by the TAs and me. But this is a place for you to form study groups \\nor find project partners or discuss homework problems and so on, and it's not monitored \\nby the TAs and me. So feel free to ta lk trash about this class there.  \\nIf you want to contact the teaching staff, pl ease use the email address written down here, \\ncs229-qa@cs.stanford.edu. This goes to an acc ount that's read by all the TAs and me. So \\nrather than sending us email individually, if you send email to this account, it will \\nactually let us get back to you maximally quickly with answers to your questions.  \\nIf you're asking questions about homework probl ems, please say in the subject line which \\nassignment and which question the email refers to, since that will also help us to route \\nyour question to the appropriate TA or to me  appropriately and get the response back to \\nyou quickly.  \\nLet's see. Skipping ahead — let's see — for homework, one midterm, one open and term \\nproject. Notice on the honor code. So one thi ng that I think will help you to succeed and \\ndo well in this class and even help you to enjoy this cla ss more is if you form a study \\ngroup.  \\nSo start looking around where you' re sitting now or at the end of class today, mingle a \\nlittle bit and get to know your classmates. I strongly encourage you to form study groups \\nand sort of have a group of people to study with and have a group of your fellow students \\nto talk over these concepts with. You can also  post on the class news group if you want to \\nuse that to try to form a study group.  \\nBut some of the problems sets in this cla ss are reasonably difficult.  People that have \\ntaken the class before may tell you they were very difficult. And just I bet it would be \\nmore fun for you, and you'd probably have a be tter learning experience if you form a \\nstudy group of people to work with. So I definitely encourage you to do that.  \\nAnd just to say a word on the honor code, whic h is I definitely en courage you to form a \\nstudy group and work together, discuss homew ork problems together. But if you discuss\", metadata={'source': '../langchain/data/mixed_data/MachineLearning-Lecture01.pdf', 'page': 5}),\n",
       " Document(page_content=\"homework problems with other students, then  I'll ask you to sort of go home and write \\ndown your own solutions independe ntly without referring to note s that were taken in any \\nof your joint study sessions.  \\nSo in other words, when you turn in a hom ework problem, what you turn in should be \\nsomething that was reconstructed independe ntly by yourself and w ithout referring to \\nnotes that you took during your  study sessions with other people, okay? And obviously, \\nshowing your solutions to othe rs or copying other solutions  directly is right out.  \\nWe occasionally also reuse problem set questions from previous years so that the \\nproblems are a bit more debugged and work more  smoothly. And as a result of that, I also \\nask you not to look at solutions from previous ye ars, and this includes both sort of official \\nsolutions that we've given out to previous gene rations of this class and previous solutions \\nthat people that have taken this class in previous years may have written out by \\nthemselves, okay?  \\nSadly, in this class, there are usually — sadly, in previous y ears, there have often been a \\nfew honor code violations in this class. And last year, I think I pr osecuted five honor code \\nviolations, which I think is a ridiculously large number. And so just don't work without \\nsolutions, and hopefully there'll be zero honor code  violations this year. I'd love for that \\nto happen.  \\nThe section here on the late homework polic y if you ever want to hand in a homework \\nlate, I'll leave you to r ead that yourself.  \\nWe also have a midterm, which is scheduled for Thursday, 8th of November at 6:00 p.m., \\nso please keep that evening free.  \\nAnd let's see. And one more administrative thing I wanted to sa y is about the class \\nproject. So part of the goal of this cla ss is to leave you well eq uipped to apply machine \\nlearning algorithms to a problem or to do rese arch in machine learning. And so as part of \\nthis class, I'll ask you to execute a small resear ch project sort of as a small term project.  \\nAnd what most students do for this is either  apply machine learning to a problem that you \\nfind interesting or investigate some aspect of  machine learning. So to those of you that \\nare either already doing research or to those of you who are in industry, you're taking this \\nfrom a company, one fantastic sort of way to do a class project would be if you apply \\nmachine learning algorithms to a problem that  you're interested in, to a problem that \\nyou're already working on, whether it be a scien ce research problem or sort of a problem \\nin industry where you're trying to get a syst em to work using a learning algorithm.  \\nTo those of you that are not currently doing re search, one great way to do a project would \\nbe if you apply learning algorithms to just pick a problem that you care about. Pick a \\nproblem that you find interesting, and apply lear ning algorithms to that  and play with the \\nideas and see what happens.\", metadata={'source': '../langchain/data/mixed_data/MachineLearning-Lecture01.pdf', 'page': 6}),\n",
       " Document(page_content=\"And let's see. Oh, and the goal of the projec t should really be for you to do a publishable \\npiece of research in machine learning, okay?  \\nAnd if you go to the course website, you'll actuall y find a list of the projects that students \\nhad done last year. And so I'm holding the li st in my hand. You can  go home later and \\ntake a look at it online.  \\nBut reading down this list, I see that last year, there were st udents that ap plied learning \\nalgorithms to control a snake robot. Ther e was a few projects on improving learning \\nalgorithms. There's a project on flying autonomous  aircraft. There was a project actually \\ndone by our TA Paul on improvi ng computer vision algorithms  using machine learning.  \\nThere are a couple of project s on Netflix rankings using learning algorithms; a few \\nmedical robots; ones on segmenting [inaudibl e] to segmenting pieces of the body using \\nlearning algorithms; one on musical instrume nt detection; anot her on irony sequence \\nalignment; and a few algorithms on understandin g the brain neuroscience, actually quite a \\nfew projects on neuroscience; a couple of projects on unde scending fMRI data on brain \\nscans, and so on; another project on market makings, the financial trading. There was an \\ninteresting project on trying to use learning algorithms to decide what is it that makes a \\nperson's face physically attractive. There's a learning algorithm on op tical illusions, and \\nso on.  \\nAnd it goes on, so lots of fun projects. A nd take a look, then come up with your own \\nideas. But whatever you find cool and interest ing, I hope you'll be able to make machine \\nlearning a project out of it. Yeah, question?  \\nStudent : Are these gro up projects?  \\nInstructor (Andrew Ng): Oh, yes, thank you.  \\nStudent : So how many people can be in a group?  \\nInstructor (Andrew Ng): Right. So projects can be done in  groups of up to three people. \\nSo as part of forming study groups, later t oday as you get to know your classmates, I \\ndefinitely also encourage you to grab two ot her people and form a group of up to three \\npeople for your project, okay? And just start brainstorming ideas for now amongst \\nyourselves. You can also come and talk to me or the TAs if you want to brainstorm ideas \\nwith us.  \\nOkay. So one more organizational ques tion. I'm curious, how many of you know \\nMATLAB? Wow, cool, quite a lot. Okay. So as part of the — act ually how many of you \\nknow Octave or have used Octave ? Oh, okay, much smaller number.  \\nSo as part of this class, especially in the homeworks, we'll ask you to implement a few \\nprograms, a few machine learning algorithms as  part of the homeworks. And most of\", metadata={'source': '../langchain/data/mixed_data/MachineLearning-Lecture01.pdf', 'page': 7}),\n",
       " Document(page_content='those homeworks will be done in either MATLA B or in Octave, which is sort of — I \\nknow some people call it a free ve rsion of MATLAB, which it sort  of is, sort of isn\\'t.  \\nSo I guess for those of you that haven\\'t s een MATLAB before, and I know most of you \\nhave, MATLAB is I guess part of the programming language that makes it very easy to write codes using matrices, to write code for numerical routines, to move data around, to \\nplot data. And it\\'s sort of an extremely easy to  learn tool to use for implementing a lot of \\nlearning algorithms.  \\nAnd in case some of you want to work on your  own home computer or something if you \\ndon\\'t have a MATLAB license, for the purposes of  this class, there\\'s also — [inaudible] \\nwrite that down [inaudible] MATLAB — there\\' s also a software package called Octave \\nthat you can download for free off the Internet. And it has somewhat fewer features than MATLAB, but it\\'s free, and for the purposes of  this class, it will work for just about \\neverything.  \\nSo actually I, well, so yeah, just a side comment for those of you that haven\\'t seen \\nMATLAB before I guess, once a colleague of mine at a different university, not at \\nStanford, actually teaches another machine l earning course. He\\'s taught it for many years. \\nSo one day, he was in his office, and an old student of his from, lik e, ten years ago came \\ninto his office and he said, \"Oh, professo r, professor, thank you so much for your \\nmachine learning class. I learned so much from it. There\\'s this stuff that I learned in your \\nclass, and I now use every day. And it\\'s help ed me make lots of money, and here\\'s a \\npicture of my big house.\"  \\nSo my friend was very excited. He said, \"W ow. That\\'s great. I\\'m glad to hear this \\nmachine learning stuff was actually useful. So what was it that you learned? Was it \\nlogistic regression? Was it the PCA? Was it the data ne tworks? What was it that you \\nlearned that was so helpful?\" And the student said, \"Oh, it was the MATLAB.\"  \\nSo for those of you that don\\'t know MATLAB yet, I hope you do learn it. It\\'s not hard, \\nand we\\'ll actually have a short MATLAB tutori al in one of the discussion sections for \\nthose of you that don\\'t know it.  \\nOkay. The very last piece of logistical th ing is the discussion s ections. So discussion \\nsections will be taught by the TAs, and atte ndance at discussion sections is optional, \\nalthough they\\'ll also be recorded and televi sed. And we\\'ll use the discussion sections \\nmainly for two things. For the next two or th ree weeks, we\\'ll use the discussion sections \\nto go over the prerequisites to this class or if some of you haven\\'t seen probability or \\nstatistics for a while or maybe algebra, we\\'ll go over those in the discussion sections as a \\nrefresher for those of you that want one.  \\nLater in this quarter, we\\'ll also use the disc ussion sections to go over extensions for the \\nmaterial that I\\'m teaching in the main lectur es. So machine learning is a huge field, and \\nthere are a few extensions that we really want  to teach but didn\\'t have time in the main \\nlectures for.', metadata={'source': '../langchain/data/mixed_data/MachineLearning-Lecture01.pdf', 'page': 8}),\n",
       " Document(page_content=\"So later this quarter, we'll use the discussion sections to talk about things like convex \\noptimization, to talk a little bit about hidde n Markov models, which is a type of machine \\nlearning algorithm for modeling time series and a few other things, so  extensions to the \\nmaterials that I'll be covering in the main  lectures. And attend ance at the discussion \\nsections is optional, okay?  \\nSo that was all I had from l ogistics. Before we move on to start talking a bit about \\nmachine learning, let me check what questions you have. Yeah?  \\nStudent : [Inaudible] R or something like that?  \\nInstructor (Andrew Ng) : Oh, yeah, let's see, right. So our policy has been that you're \\nwelcome to use R, but I would strongly advi se against it, mainly because in the last \\nproblem set, we actually supply some code th at will run in Octave  but that would be \\nsomewhat painful for you to translate into R yourself. So for your other assignments, if \\nyou wanna submit a solution in R, that's fi ne. But I think MATLAB is actually totally \\nworth learning. I know R and MATLAB, and I personally end up using MATLAB quite a \\nbit more often for various reasons. Yeah?  \\nStudent : For the [inaudible] pr oject [inaudible]?  \\nInstructor (Andrew Ng) : So for the term project, you're welcome to do it in smaller \\ngroups of three, or you're welcome to do it by yo urself or in groups of two. Grading is the \\nsame regardless of the group size, so with  a larger group, you probably — I recommend \\ntrying to form a team, but it's actually totally fine to do it in a sma ller group if you want.  \\nStudent : [Inaudible] what language [inaudible]?  \\nInstructor (Andrew Ng): So let's see. There is no C programming in this class other \\nthan any that you may choose to do yourself in your project. So all the homeworks can be \\ndone in MATLAB or Octave, and let's see. A nd I guess the program prerequisites is more \\nthe ability to understand big?O notation and know ledge of what a data structure, like a \\nlinked list or a queue or bina ry treatments, more so than  your knowledge of C or Java \\nspecifically. Yeah?  \\nStudent : Looking at the end semester project, I mean, what exactly will you be testing \\nover there? [Inaudible]?  \\nInstructor (Andrew Ng) : Of the project?  \\nStudent : Yeah.  \\nInstructor (Andrew Ng) : Yeah, let me answer that later.  In a couple of weeks, I shall \\ngive out a handout with guidelines for the pr oject. But for now, we should think of the \\ngoal as being to do a cool piec e of machine learning work that  will let you experience the\", metadata={'source': '../langchain/data/mixed_data/MachineLearning-Lecture01.pdf', 'page': 9})]"
      ]
     },
     "execution_count": 11,
     "metadata": {},
     "output_type": "execute_result"
    }
   ],
   "source": [
    "data[5:10]"
   ]
  },
  {
   "cell_type": "code",
   "execution_count": null,
   "id": "b90a5e25-4f9d-453c-8eed-8dfdd92a0fb4",
   "metadata": {},
   "outputs": [],
   "source": []
  },
  {
   "cell_type": "code",
   "execution_count": null,
   "id": "4fcfe5cb-5147-4221-97e5-55b1d604e224",
   "metadata": {},
   "outputs": [],
   "source": []
  },
  {
   "cell_type": "code",
   "execution_count": null,
   "id": "cfbc0fe6-ce08-4d28-811a-6fe4e7b2ba57",
   "metadata": {},
   "outputs": [],
   "source": []
  },
  {
   "cell_type": "code",
   "execution_count": null,
   "id": "b79e9f6c-80d9-42e2-bd58-d90faaf04b73",
   "metadata": {},
   "outputs": [],
   "source": []
  },
  {
   "cell_type": "code",
   "execution_count": null,
   "id": "2331e8dd-4237-4913-bc48-9d316cb01716",
   "metadata": {},
   "outputs": [],
   "source": []
  },
  {
   "cell_type": "code",
   "execution_count": null,
   "id": "5e268437-0254-4bac-b334-03139b6f0dd3",
   "metadata": {},
   "outputs": [],
   "source": []
  }
 ],
 "metadata": {
  "kernelspec": {
   "display_name": "01. Python 3.10 (General DS)",
   "language": "python",
   "name": "python310"
  },
  "language_info": {
   "codemirror_mode": {
    "name": "ipython",
    "version": 3
   },
   "file_extension": ".py",
   "mimetype": "text/x-python",
   "name": "python",
   "nbconvert_exporter": "python",
   "pygments_lexer": "ipython3",
   "version": "3.10.8"
  }
 },
 "nbformat": 4,
 "nbformat_minor": 5
}
